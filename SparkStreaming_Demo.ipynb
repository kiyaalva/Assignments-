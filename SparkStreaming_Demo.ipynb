{
  "cells": [
    {
      "cell_type": "code",
      "execution_count": null,
      "id": "a73fc58e",
      "metadata": {
        "id": "a73fc58e"
      },
      "outputs": [],
      "source": [
        "# Meant to deal with Realtime data\n",
        "# It perform MicroBatching / Micro-batch Processing"
      ]
    },
    {
      "cell_type": "code",
      "execution_count": null,
      "id": "bade0b05",
      "metadata": {
        "id": "bade0b05"
      },
      "outputs": [],
      "source": [
        "# Spark Core ----> RDD\n",
        "# SparkSQL ------> DataFrame\n",
        "# SparkStreaming-> DStreams"
      ]
    },
    {
      "cell_type": "code",
      "execution_count": null,
      "id": "0d965195",
      "metadata": {
        "id": "0d965195"
      },
      "outputs": [],
      "source": [
        "import findspark\n",
        "findspark.init()"
      ]
    },
    {
      "cell_type": "code",
      "execution_count": null,
      "id": "cd0bb5b3",
      "metadata": {
        "id": "cd0bb5b3"
      },
      "outputs": [],
      "source": [
        "# Create SparkContext\n",
        "from pyspark import SparkContext\n",
        "# Create StreamingContext\n",
        "from pyspark.streaming import StreamingContext"
      ]
    },
    {
      "cell_type": "code",
      "execution_count": null,
      "id": "b209373d",
      "metadata": {
        "id": "b209373d"
      },
      "outputs": [],
      "source": [
        "# For a typical SparkStreaming App\n",
        "# you need to use 2 CPU cores minimum where\n",
        "# 1st core ---> Used for Collect and Create Microbatch\n",
        "# 2nd core ---> Used for applying transformation on the generated microbatch\n",
        "\n",
        "sc = SparkContext(\"local[2]\",\"StreamDemo\")"
      ]
    },
    {
      "cell_type": "code",
      "execution_count": null,
      "id": "4e8887a6",
      "metadata": {
        "id": "4e8887a6"
      },
      "outputs": [],
      "source": [
        "sc"
      ]
    },
    {
      "cell_type": "code",
      "execution_count": null,
      "id": "8451030e",
      "metadata": {
        "id": "8451030e"
      },
      "outputs": [],
      "source": [
        "#Initialize the Streaming Context with SparkContext Object and time in seconds\n",
        "\n",
        "ssc = StreamingContext(sc , 3)"
      ]
    },
    {
      "cell_type": "code",
      "execution_count": null,
      "id": "682ffb2f",
      "metadata": {
        "id": "682ffb2f"
      },
      "outputs": [],
      "source": [
        "# Collect the data\n",
        "microBatchData = ssc.socketTextStream(\"192.168.80.151\",9090)"
      ]
    },
    {
      "cell_type": "code",
      "execution_count": null,
      "id": "083b2cbd",
      "metadata": {
        "id": "083b2cbd"
      },
      "outputs": [],
      "source": [
        "# Print the data\n",
        "microBatchData.pprint()"
      ]
    },
    {
      "cell_type": "code",
      "execution_count": null,
      "id": "19fc5692",
      "metadata": {
        "id": "19fc5692"
      },
      "outputs": [],
      "source": [
        "#Start Streaming App\n",
        "ssc.start()\n",
        "ssc.awaitTermination()"
      ]
    },
    {
      "cell_type": "code",
      "execution_count": null,
      "id": "d2f46f5c",
      "metadata": {
        "id": "d2f46f5c"
      },
      "outputs": [],
      "source": [
        "ssc.stop()"
      ]
    },
    {
      "cell_type": "code",
      "execution_count": null,
      "id": "6a8c3a20",
      "metadata": {
        "id": "6a8c3a20"
      },
      "outputs": [],
      "source": [
        ""
      ]
    }
  ],
  "metadata": {
    "kernelspec": {
      "display_name": "Python 3",
      "language": "python",
      "name": "python3"
    },
    "language_info": {
      "codemirror_mode": {
        "name": "ipython",
        "version": 3
      },
      "file_extension": ".py",
      "mimetype": "text/x-python",
      "name": "python",
      "nbconvert_exporter": "python",
      "pygments_lexer": "ipython3",
      "version": "3.7.10"
    },
    "colab": {
      "name": "SparkStreaming Demo.ipynb",
      "provenance": []
    }
  },
  "nbformat": 4,
  "nbformat_minor": 5
}