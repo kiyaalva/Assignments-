{
 "cells": [
  {
   "cell_type": "code",
   "execution_count": 1,
   "id": "a7bcb975",
   "metadata": {},
   "outputs": [
    {
     "data": {
      "text/plain": [
       "'C:\\\\apachespark\\\\spark-2.4.7-bin-hadoop2.7'"
      ]
     },
     "execution_count": 1,
     "metadata": {},
     "output_type": "execute_result"
    }
   ],
   "source": [
    "import findspark \n",
    "findspark.init()\n",
    "findspark.find()\n"
   ]
  },
  {
   "cell_type": "code",
   "execution_count": 2,
   "id": "11c3049d",
   "metadata": {},
   "outputs": [],
   "source": [
    "from pyspark.sql import SparkSession\n",
    "\n",
    "\n",
    "spark = SparkSession.builder.appName('testapp').getOrCreate()"
   ]
  },
  {
   "cell_type": "code",
   "execution_count": 4,
   "id": "75a8b5a7",
   "metadata": {},
   "outputs": [],
   "source": [
    "d1= spark.read.csv('txnsSmall2')"
   ]
  },
  {
   "cell_type": "code",
   "execution_count": 5,
   "id": "b843087d",
   "metadata": {},
   "outputs": [
    {
     "name": "stdout",
     "output_type": "stream",
     "text": [
      "root\n",
      " |-- _c0: string (nullable = true)\n",
      " |-- _c1: string (nullable = true)\n",
      " |-- _c2: string (nullable = true)\n",
      " |-- _c3: string (nullable = true)\n",
      " |-- _c4: string (nullable = true)\n",
      " |-- _c5: string (nullable = true)\n",
      " |-- _c6: string (nullable = true)\n",
      " |-- _c7: string (nullable = true)\n",
      " |-- _c8: string (nullable = true)\n",
      "\n"
     ]
    }
   ],
   "source": [
    "d1.printSchema()"
   ]
  },
  {
   "cell_type": "code",
   "execution_count": 6,
   "id": "de94c4fd",
   "metadata": {},
   "outputs": [
    {
     "name": "stdout",
     "output_type": "stream",
     "text": [
      "+--------+----------+-------+------+------------------+--------------------+-----------+----------+-------+\n",
      "|     _c0|       _c1|    _c2|   _c3|               _c4|                 _c5|        _c6|       _c7|    _c8|\n",
      "+--------+----------+-------+------+------------------+--------------------+-----------+----------+-------+\n",
      "|   txnid|   txndate| custid|amount|          category|         subcategory|       city|     state|txntype|\n",
      "|00000000|06-26-2011|4007024|040.33|Exercise & Fitness|Cardio Machine Ac...|Clarksville| Tennessee| credit|\n",
      "|00000001|05-26-2011|4006742|198.44|Exercise & Fitness|Weightlifting Gloves| Long Beach|California| credit|\n",
      "|00000002|06-01-2011|4009775|005.58|Exercise & Fitness|Weightlifting Mac...|    Anaheim|California| credit|\n",
      "|00000003|06-05-2011|4002199|198.19|        Gymnastics|    Gymnastics Rings|  Milwaukee| Wisconsin| credit|\n",
      "+--------+----------+-------+------+------------------+--------------------+-----------+----------+-------+\n",
      "only showing top 5 rows\n",
      "\n"
     ]
    }
   ],
   "source": [
    "d1.show(5)"
   ]
  },
  {
   "cell_type": "code",
   "execution_count": 7,
   "id": "f4258c81",
   "metadata": {},
   "outputs": [],
   "source": [
    "d1= spark.read.option('header',True).option('inferSchema',True).csv('txnsSmall2')"
   ]
  },
  {
   "cell_type": "code",
   "execution_count": 8,
   "id": "2c24d90e",
   "metadata": {},
   "outputs": [
    {
     "name": "stdout",
     "output_type": "stream",
     "text": [
      "+-----+----------+-------+------+------------------+--------------------+-----------+----------+-------+\n",
      "|txnid|   txndate| custid|amount|          category|         subcategory|       city|     state|txntype|\n",
      "+-----+----------+-------+------+------------------+--------------------+-----------+----------+-------+\n",
      "|    0|06-26-2011|4007024| 40.33|Exercise & Fitness|Cardio Machine Ac...|Clarksville| Tennessee| credit|\n",
      "|    1|05-26-2011|4006742|198.44|Exercise & Fitness|Weightlifting Gloves| Long Beach|California| credit|\n",
      "|    2|06-01-2011|4009775|  5.58|Exercise & Fitness|Weightlifting Mac...|    Anaheim|California| credit|\n",
      "|    3|06-05-2011|4002199|198.19|        Gymnastics|    Gymnastics Rings|  Milwaukee| Wisconsin| credit|\n",
      "|    4|12-17-2011|4002613| 98.81|       Team Sports|        Field Hockey|Nashville  | Tennessee| credit|\n",
      "+-----+----------+-------+------+------------------+--------------------+-----------+----------+-------+\n",
      "only showing top 5 rows\n",
      "\n"
     ]
    }
   ],
   "source": [
    "d1.show(5)"
   ]
  },
  {
   "cell_type": "code",
   "execution_count": 9,
   "id": "afc9ad24",
   "metadata": {},
   "outputs": [],
   "source": [
    "from pyspark.sql.types import *\n"
   ]
  },
  {
   "cell_type": "code",
   "execution_count": 16,
   "id": "205a2a68",
   "metadata": {},
   "outputs": [],
   "source": [
    "d2 = StructType([StructField('txnid',IntegerType(),True),StructField('txndate',StringType(),True),\n",
    "                StructField('custid',IntegerType(),True),StructField('amount',DoubleType(),True),\n",
    "                StructField('category',StringType(),True),StructField('subcategory',StringType(),True),\n",
    "                StructField('city',StringType(),True),StructField('state',StringType(),True),\n",
    "                StructField('txntype',StringType(),True)])"
   ]
  },
  {
   "cell_type": "code",
   "execution_count": 18,
   "id": "368cfd95",
   "metadata": {},
   "outputs": [],
   "source": [
    "dataf=spark.read.schema(d2).csv('txnsSmall')"
   ]
  },
  {
   "cell_type": "code",
   "execution_count": 19,
   "id": "91ba547b",
   "metadata": {},
   "outputs": [
    {
     "name": "stdout",
     "output_type": "stream",
     "text": [
      "+-----+----------+-------+------+------------------+--------------------+-----------+----------+-------+\n",
      "|txnid|   txndate| custid|amount|          category|         subcategory|       city|     state|txntype|\n",
      "+-----+----------+-------+------+------------------+--------------------+-----------+----------+-------+\n",
      "|    0|06-26-2011|4007024| 40.33|Exercise & Fitness|Cardio Machine Ac...|Clarksville| Tennessee| credit|\n",
      "|    1|05-26-2011|4006742|198.44|Exercise & Fitness|Weightlifting Gloves| Long Beach|California| credit|\n",
      "|    2|06-01-2011|4009775|  5.58|Exercise & Fitness|Weightlifting Mac...|    Anaheim|California| credit|\n",
      "|    3|06-05-2011|4002199|198.19|        Gymnastics|    Gymnastics Rings|  Milwaukee| Wisconsin| credit|\n",
      "|    4|12-17-2011|4002613| 98.81|       Team Sports|        Field Hockey|Nashville  | Tennessee| credit|\n",
      "+-----+----------+-------+------+------------------+--------------------+-----------+----------+-------+\n",
      "only showing top 5 rows\n",
      "\n"
     ]
    }
   ],
   "source": [
    "dataf.show(5)"
   ]
  },
  {
   "cell_type": "code",
   "execution_count": 20,
   "id": "82fb66e3",
   "metadata": {},
   "outputs": [],
   "source": [
    "dataf.write.parquet('dataf.parquet')"
   ]
  },
  {
   "cell_type": "code",
   "execution_count": 21,
   "id": "f204a765",
   "metadata": {},
   "outputs": [],
   "source": [
    "datafp = spark.read.parquet('dataf.parquet')"
   ]
  },
  {
   "cell_type": "code",
   "execution_count": 22,
   "id": "b64e4526",
   "metadata": {},
   "outputs": [
    {
     "name": "stdout",
     "output_type": "stream",
     "text": [
      "+-----+----------+-------+------+------------------+--------------------+-----------+----------+-------+\n",
      "|txnid|   txndate| custid|amount|          category|         subcategory|       city|     state|txntype|\n",
      "+-----+----------+-------+------+------------------+--------------------+-----------+----------+-------+\n",
      "|    0|06-26-2011|4007024| 40.33|Exercise & Fitness|Cardio Machine Ac...|Clarksville| Tennessee| credit|\n",
      "|    1|05-26-2011|4006742|198.44|Exercise & Fitness|Weightlifting Gloves| Long Beach|California| credit|\n",
      "|    2|06-01-2011|4009775|  5.58|Exercise & Fitness|Weightlifting Mac...|    Anaheim|California| credit|\n",
      "|    3|06-05-2011|4002199|198.19|        Gymnastics|    Gymnastics Rings|  Milwaukee| Wisconsin| credit|\n",
      "|    4|12-17-2011|4002613| 98.81|       Team Sports|        Field Hockey|Nashville  | Tennessee| credit|\n",
      "+-----+----------+-------+------+------------------+--------------------+-----------+----------+-------+\n",
      "only showing top 5 rows\n",
      "\n"
     ]
    }
   ],
   "source": [
    "datafp.show(5)"
   ]
  },
  {
   "cell_type": "markdown",
   "id": "6a6775ee",
   "metadata": {},
   "source": [
    "SQL Approach \n",
    "        #Find the total number of transaction done by cash\n",
    "\t\t# Find the Highest Selling Category\n",
    "\t\t# Find the lowest selling Category\n",
    "\t\t# Find the lowest selling subcategory in highest selling category"
   ]
  },
  {
   "cell_type": "code",
   "execution_count": 24,
   "id": "a6c3344a",
   "metadata": {},
   "outputs": [],
   "source": [
    "datafp.registerTempTable('datafp')"
   ]
  },
  {
   "cell_type": "code",
   "execution_count": 26,
   "id": "a366bbb9",
   "metadata": {},
   "outputs": [
    {
     "name": "stdout",
     "output_type": "stream",
     "text": [
      "+-------+\n",
      "|counttr|\n",
      "+-------+\n",
      "|     64|\n",
      "+-------+\n",
      "\n"
     ]
    }
   ],
   "source": [
    "spark.sql(\"select count(*) as counttr from datafp where txntype = 'cash'\").show()"
   ]
  },
  {
   "cell_type": "code",
   "execution_count": 28,
   "id": "8b914029",
   "metadata": {},
   "outputs": [
    {
     "name": "stdout",
     "output_type": "stream",
     "text": [
      "+------------------+------+\n",
      "|          category|countH|\n",
      "+------------------+------+\n",
      "|Outdoor Recreation|    57|\n",
      "+------------------+------+\n",
      "\n"
     ]
    }
   ],
   "source": [
    "spark.sql(\"select category, count(*) as countH from datafp group by category order by countH desc limit 1\").show()"
   ]
  },
  {
   "cell_type": "code",
   "execution_count": 29,
   "id": "ea7128c8",
   "metadata": {},
   "outputs": [
    {
     "name": "stdout",
     "output_type": "stream",
     "text": [
      "+--------+------+\n",
      "|category|countH|\n",
      "+--------+------+\n",
      "| Puzzles|     7|\n",
      "+--------+------+\n",
      "\n"
     ]
    }
   ],
   "source": [
    "spark.sql(\"select category, count(*) as countH from datafp group by category order by countH limit 1\").show()"
   ]
  },
  {
   "cell_type": "code",
   "execution_count": 31,
   "id": "6abcaf59",
   "metadata": {},
   "outputs": [
    {
     "name": "stdout",
     "output_type": "stream",
     "text": [
      "+-----------+------+\n",
      "|subcategory|countS|\n",
      "+-----------+------+\n",
      "|       Golf|     1|\n",
      "+-----------+------+\n",
      "\n"
     ]
    }
   ],
   "source": [
    "spark.sql(\"select subcategory,count(*) as countS from datafp where category = (select category from datafp group by category order by count(txnid) desc limit 1 ) group by subcategory order by count(*) limit 1\").show() "
   ]
  },
  {
   "cell_type": "markdown",
   "id": "fce6a97b",
   "metadata": {},
   "source": [
    "#programming approch \n",
    "        #Find the total number of transaction done by cash\n",
    "\t\t# Find the Highest Selling Category\n",
    "\t\t# Find the lowest selling Category\n",
    "\t\t# Find the lowest selling subcategory in highest selling category"
   ]
  },
  {
   "cell_type": "code",
   "execution_count": 51,
   "id": "b4c8d165",
   "metadata": {},
   "outputs": [],
   "source": [
    "from pyspark.sql.functions import *"
   ]
  },
  {
   "cell_type": "code",
   "execution_count": 52,
   "id": "a730f8ba",
   "metadata": {},
   "outputs": [
    {
     "data": {
      "text/plain": [
       "64"
      ]
     },
     "execution_count": 52,
     "metadata": {},
     "output_type": "execute_result"
    }
   ],
   "source": [
    "datafp.where(\"txntype ='cash'\").count()"
   ]
  },
  {
   "cell_type": "code",
   "execution_count": 55,
   "id": "7673c6d7",
   "metadata": {},
   "outputs": [
    {
     "name": "stdout",
     "output_type": "stream",
     "text": [
      "+------------------+------+\n",
      "|          category|countt|\n",
      "+------------------+------+\n",
      "|Outdoor Recreation|    57|\n",
      "+------------------+------+\n",
      "only showing top 1 row\n",
      "\n"
     ]
    }
   ],
   "source": [
    "datafp.groupBy('category').agg({'txnid':'count'}).withColumnRenamed(\"count(txnid)\", \"countt\").sort(desc(\"countt\")).show(1)"
   ]
  },
  {
   "cell_type": "code",
   "execution_count": 56,
   "id": "5491c449",
   "metadata": {},
   "outputs": [
    {
     "name": "stdout",
     "output_type": "stream",
     "text": [
      "+--------+------+\n",
      "|category|countt|\n",
      "+--------+------+\n",
      "| Puzzles|     7|\n",
      "+--------+------+\n",
      "only showing top 1 row\n",
      "\n"
     ]
    }
   ],
   "source": [
    "datafp.groupBy('category').agg({'txnid':'count'}).withColumnRenamed(\"count(txnid)\", \"countt\").sort(asc(\"countt\")).show(1)"
   ]
  },
  {
   "cell_type": "code",
   "execution_count": 50,
   "id": "ebd4a3a5",
   "metadata": {},
   "outputs": [
    {
     "ename": "NameError",
     "evalue": "name 'Asc' is not defined",
     "output_type": "error",
     "traceback": [
      "\u001b[1;31m---------------------------------------------------------------------------\u001b[0m",
      "\u001b[1;31mNameError\u001b[0m                                 Traceback (most recent call last)",
      "\u001b[1;32m~\\AppData\\Local\\Temp\\ipykernel_17328\\3491786322.py\u001b[0m in \u001b[0;36m<module>\u001b[1;34m\u001b[0m\n\u001b[1;32m----> 1\u001b[1;33m \u001b[0mdatafp\u001b[0m\u001b[1;33m.\u001b[0m\u001b[0mgroupBy\u001b[0m\u001b[1;33m(\u001b[0m\u001b[1;34m'subcategory'\u001b[0m\u001b[1;33m)\u001b[0m\u001b[1;33m.\u001b[0m\u001b[0magg\u001b[0m\u001b[1;33m(\u001b[0m\u001b[1;33m{\u001b[0m\u001b[1;34m'txnid'\u001b[0m\u001b[1;33m:\u001b[0m\u001b[1;34m'count'\u001b[0m\u001b[1;33m}\u001b[0m\u001b[1;33m)\u001b[0m\u001b[1;33m.\u001b[0m\u001b[0msort\u001b[0m\u001b[1;33m(\u001b[0m\u001b[0mAsc\u001b[0m\u001b[1;33m(\u001b[0m\u001b[0mcount\u001b[0m\u001b[1;33m(\u001b[0m\u001b[1;34m'txnid'\u001b[0m\u001b[1;33m)\u001b[0m\u001b[1;33m)\u001b[0m\u001b[1;33m)\u001b[0m\u001b[1;33m\u001b[0m\u001b[1;33m\u001b[0m\u001b[0m\n\u001b[0m",
      "\u001b[1;31mNameError\u001b[0m: name 'Asc' is not defined"
     ]
    }
   ],
   "source": [
    "datafp.groupBy('subcategory').agg({'txnid':'count'}).sort(Asc(count('txnid')))"
   ]
  },
  {
   "cell_type": "code",
   "execution_count": null,
   "id": "4eb6fde2",
   "metadata": {},
   "outputs": [],
   "source": []
  }
 ],
 "metadata": {
  "kernelspec": {
   "display_name": "Python 3 (ipykernel)",
   "language": "python",
   "name": "python3"
  },
  "language_info": {
   "codemirror_mode": {
    "name": "ipython",
    "version": 3
   },
   "file_extension": ".py",
   "mimetype": "text/x-python",
   "name": "python",
   "nbconvert_exporter": "python",
   "pygments_lexer": "ipython3",
   "version": "3.7.13"
  }
 },
 "nbformat": 4,
 "nbformat_minor": 5
}
