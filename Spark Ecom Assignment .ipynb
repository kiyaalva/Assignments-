{
 "cells": [
  {
   "cell_type": "code",
   "execution_count": 1,
   "id": "19ff9e01",
   "metadata": {},
   "outputs": [],
   "source": [
    "import findspark \n",
    "findspark.init()"
   ]
  },
  {
   "cell_type": "code",
   "execution_count": 3,
   "id": "aaaf6c11",
   "metadata": {},
   "outputs": [
    {
     "name": "stdout",
     "output_type": "stream",
     "text": [
      "Collecting pandas\n",
      "  Downloading pandas-1.3.5-cp37-cp37m-win_amd64.whl (10.0 MB)\n",
      "     ---------------------------------------- 10.0/10.0 MB 1.7 MB/s eta 0:00:00\n",
      "Collecting pytz>=2017.3\n",
      "  Downloading pytz-2022.1-py2.py3-none-any.whl (503 kB)\n",
      "     -------------------------------------- 503.5/503.5 kB 3.9 MB/s eta 0:00:00\n",
      "Requirement already satisfied: python-dateutil>=2.7.3 in c:\\users\\kiran.alva\\anaconda3\\envs\\pysparkenv2\\lib\\site-packages (from pandas) (2.8.2)\n",
      "Collecting numpy>=1.17.3\n",
      "  Downloading numpy-1.21.6-cp37-cp37m-win_amd64.whl (14.0 MB)\n",
      "     ---------------------------------------- 14.0/14.0 MB 1.7 MB/s eta 0:00:00\n",
      "Requirement already satisfied: six>=1.5 in c:\\users\\kiran.alva\\anaconda3\\envs\\pysparkenv2\\lib\\site-packages (from python-dateutil>=2.7.3->pandas) (1.16.0)\n",
      "Installing collected packages: pytz, numpy, pandas\n",
      "Successfully installed numpy-1.21.6 pandas-1.3.5 pytz-2022.1\n",
      "Note: you may need to restart the kernel to use updated packages.\n"
     ]
    }
   ],
   "source": [
    "pip install pandas"
   ]
  },
  {
   "cell_type": "code",
   "execution_count": 4,
   "id": "5b257f59",
   "metadata": {},
   "outputs": [],
   "source": [
    "import pandas as pd"
   ]
  },
  {
   "cell_type": "code",
   "execution_count": 5,
   "id": "8bb449c2",
   "metadata": {},
   "outputs": [],
   "source": [
    "from pyspark.sql import SparkSession "
   ]
  },
  {
   "cell_type": "code",
   "execution_count": 6,
   "id": "6134eb10",
   "metadata": {},
   "outputs": [],
   "source": [
    "df = pd.read_csv(\"Ecommerce Purchases\")"
   ]
  },
  {
   "cell_type": "code",
   "execution_count": 7,
   "id": "50d4e53a",
   "metadata": {},
   "outputs": [],
   "source": [
    "spark= SparkSession.builder.appName(\"testApp\").getOrCreate()"
   ]
  },
  {
   "cell_type": "code",
   "execution_count": 8,
   "id": "df701e24",
   "metadata": {},
   "outputs": [],
   "source": [
    "df1 = spark.createDataFrame(df)"
   ]
  },
  {
   "cell_type": "code",
   "execution_count": 9,
   "id": "e874854a",
   "metadata": {},
   "outputs": [
    {
     "name": "stdout",
     "output_type": "stream",
     "text": [
      "+--------------------+-----+--------+--------------------+--------------------+----------------+-----------+----------------+--------------------+--------------------+--------------------+---------------+--------+--------------+\n",
      "|             Address|  Lot|AM or PM|        Browser Info|             Company|     Credit Card|CC Exp Date|CC Security Code|         CC Provider|               Email|                 Job|     IP Address|Language|Purchase Price|\n",
      "+--------------------+-----+--------+--------------------+--------------------+----------------+-----------+----------------+--------------------+--------------------+--------------------+---------------+--------+--------------+\n",
      "|16629 Pace Camp A...|46 in|      PM|Opera/9.56.(X11; ...|     Martinez-Herman|6011929061123406|      02/20|             900|        JCB 16 digit|   pdunlap@yahoo.com|Scientist, produc...|149.146.147.205|      el|         98.14|\n",
      "|9374 Jasmine Spur...|28 rn|      PM|Opera/8.93.(Windo...|Fletcher, Richard...|3337758169645356|      11/18|             561|          Mastercard|  anthony41@reed.com|   Drilling engineer|   15.160.41.51|      fr|         70.73|\n",
      "|Unit 0065 Box 505...|94 vE|      PM|Mozilla/5.0 (comp...|Simpson, Williams...|    675957666125|      08/19|             699|        JCB 16 digit|amymiller@morales...|Customer service ...| 132.207.160.22|      de|          0.95|\n",
      "|7780 Julia Fords\n",
      "...|36 vm|      PM|Mozilla/5.0 (Maci...|Williams, Marshal...|6011578504430710|      02/24|             384|            Discover|brent16@olson-rob...|   Drilling engineer|   30.250.74.19|      es|         78.04|\n",
      "|23012 Munoz Drive...|20 IE|      AM|Opera/9.58.(X11; ...|Brown, Watson and...|6011456623207998|      10/25|             678|Diners Club / Car...|christopherwright...|         Fine artist|   24.140.33.94|      es|         77.82|\n",
      "+--------------------+-----+--------+--------------------+--------------------+----------------+-----------+----------------+--------------------+--------------------+--------------------+---------------+--------+--------------+\n",
      "only showing top 5 rows\n",
      "\n"
     ]
    }
   ],
   "source": [
    "df1.show(5)"
   ]
  },
  {
   "cell_type": "code",
   "execution_count": 10,
   "id": "c3121316",
   "metadata": {},
   "outputs": [],
   "source": [
    "df1.registerTempTable('Ecom')"
   ]
  },
  {
   "cell_type": "code",
   "execution_count": 11,
   "id": "af666d10",
   "metadata": {},
   "outputs": [
    {
     "name": "stdout",
     "output_type": "stream",
     "text": [
      "+--------+---------+-----------+\n",
      "|database|tableName|isTemporary|\n",
      "+--------+---------+-----------+\n",
      "|        |     ecom|       true|\n",
      "+--------+---------+-----------+\n",
      "\n"
     ]
    }
   ],
   "source": [
    "spark.sql('show tables').show()"
   ]
  },
  {
   "cell_type": "code",
   "execution_count": 13,
   "id": "c369a7f8",
   "metadata": {},
   "outputs": [
    {
     "name": "stdout",
     "output_type": "stream",
     "text": [
      "+-------------------+\n",
      "|avg(Purchase Price)|\n",
      "+-------------------+\n",
      "|  50.34730200000001|\n",
      "+-------------------+\n",
      "\n"
     ]
    }
   ],
   "source": [
    "spark.sql('select avg(`Purchase Price`) from ecom').show()"
   ]
  },
  {
   "cell_type": "code",
   "execution_count": 14,
   "id": "0a1d5b62",
   "metadata": {},
   "outputs": [
    {
     "name": "stdout",
     "output_type": "stream",
     "text": [
      "+-------------------+\n",
      "|max(Purchase Price)|\n",
      "+-------------------+\n",
      "|              99.99|\n",
      "+-------------------+\n",
      "\n"
     ]
    }
   ],
   "source": [
    "spark.sql('select max(`Purchase Price`) from ecom').show()"
   ]
  },
  {
   "cell_type": "code",
   "execution_count": 15,
   "id": "44f1bed9",
   "metadata": {},
   "outputs": [
    {
     "name": "stdout",
     "output_type": "stream",
     "text": [
      "+-------------------+\n",
      "|max(Purchase Price)|\n",
      "+-------------------+\n",
      "|              99.99|\n",
      "+-------------------+\n",
      "\n"
     ]
    }
   ],
   "source": [
    "spark.sql('select max(`Purchase Price`) from ecom').show()"
   ]
  },
  {
   "cell_type": "code",
   "execution_count": 16,
   "id": "2a2693fa",
   "metadata": {},
   "outputs": [
    {
     "name": "stdout",
     "output_type": "stream",
     "text": [
      "+--------+\n",
      "|count(1)|\n",
      "+--------+\n",
      "|    1098|\n",
      "+--------+\n",
      "\n"
     ]
    }
   ],
   "source": [
    "spark.sql('select count(*)  from ecom where Language = \"en\"').show()"
   ]
  },
  {
   "cell_type": "code",
   "execution_count": 17,
   "id": "dfed8abf",
   "metadata": {},
   "outputs": [
    {
     "name": "stdout",
     "output_type": "stream",
     "text": [
      "+--------+\n",
      "|count(1)|\n",
      "+--------+\n",
      "|      30|\n",
      "+--------+\n",
      "\n"
     ]
    }
   ],
   "source": [
    "spark.sql('select count(*) from ecom where lower(Job) = \"lawyer\"').show()"
   ]
  },
  {
   "cell_type": "code",
   "execution_count": 18,
   "id": "a6f47f03",
   "metadata": {},
   "outputs": [
    {
     "name": "stdout",
     "output_type": "stream",
     "text": [
      "+--------+---------------+\n",
      "|AM or PM|count(AM or PM)|\n",
      "+--------+---------------+\n",
      "|      PM|           5068|\n",
      "|      AM|           4932|\n",
      "+--------+---------------+\n",
      "\n"
     ]
    }
   ],
   "source": [
    "spark.sql('select `AM or PM` , count(`AM or PM`) from ecom group by `AM or PM`').show()"
   ]
  },
  {
   "cell_type": "code",
   "execution_count": 19,
   "id": "4566f3b6",
   "metadata": {},
   "outputs": [
    {
     "name": "stdout",
     "output_type": "stream",
     "text": [
      "+--------------------+----------+\n",
      "|                 job|count(job)|\n",
      "+--------------------+----------+\n",
      "|Interior and spat...|        31|\n",
      "|              Lawyer|        30|\n",
      "|   Social researcher|        28|\n",
      "|Research officer,...|        27|\n",
      "| Designer, jewellery|        27|\n",
      "+--------------------+----------+\n",
      "\n"
     ]
    }
   ],
   "source": [
    "spark.sql('select job , count(job) from ecom group by job order by count(job) desc limit 5').show()"
   ]
  },
  {
   "cell_type": "code",
   "execution_count": 20,
   "id": "56a9a6bb",
   "metadata": {},
   "outputs": [
    {
     "name": "stdout",
     "output_type": "stream",
     "text": [
      "+--------------+\n",
      "|Purchase Price|\n",
      "+--------------+\n",
      "|          75.1|\n",
      "+--------------+\n",
      "\n"
     ]
    }
   ],
   "source": [
    "spark.sql('select `Purchase Price` from ecom where lot = \"90 WT\" ').show()"
   ]
  },
  {
   "cell_type": "code",
   "execution_count": 21,
   "id": "94ed25cf",
   "metadata": {},
   "outputs": [
    {
     "name": "stdout",
     "output_type": "stream",
     "text": [
      "+--------------------+\n",
      "|               email|\n",
      "+--------------------+\n",
      "|bondellen@william...|\n",
      "+--------------------+\n",
      "\n"
     ]
    }
   ],
   "source": [
    "spark.sql('select email from ecom where `Credit Card` = 4926535242672853').show()"
   ]
  },
  {
   "cell_type": "code",
   "execution_count": 28,
   "id": "a6df2daa",
   "metadata": {},
   "outputs": [
    {
     "name": "stdout",
     "output_type": "stream",
     "text": [
      "+--------+\n",
      "|count(1)|\n",
      "+--------+\n",
      "|      39|\n",
      "+--------+\n",
      "\n"
     ]
    }
   ],
   "source": [
    "spark.sql('select count(*) from ecom where `CC Provider` = \"American Express\" and `Purchase Price` > 95').show()"
   ]
  },
  {
   "cell_type": "code",
   "execution_count": 29,
   "id": "13ebd498",
   "metadata": {},
   "outputs": [
    {
     "name": "stdout",
     "output_type": "stream",
     "text": [
      "+--------+\n",
      "|count(1)|\n",
      "+--------+\n",
      "|    1033|\n",
      "+--------+\n",
      "\n"
     ]
    }
   ],
   "source": [
    "spark.sql('select count(*) from ecom where SPLIT(`CC Exp Date`,\"/\")[1]=25').show()"
   ]
  },
  {
   "cell_type": "code",
   "execution_count": 30,
   "id": "b6049ac2",
   "metadata": {},
   "outputs": [
    {
     "name": "stdout",
     "output_type": "stream",
     "text": [
      "+------------+-----------+\n",
      "|email       |email_count|\n",
      "+------------+-----------+\n",
      "|hotmail.com |1638       |\n",
      "|yahoo.com   |1616       |\n",
      "|gmail.com   |1605       |\n",
      "|smith.com   |42         |\n",
      "|williams.com|37         |\n",
      "+------------+-----------+\n",
      "only showing top 5 rows\n",
      "\n"
     ]
    }
   ],
   "source": [
    "spark.sql('select email , count(*) as email_count from (select SPLIT(`Email`,\"@\")[1] as email from ecom) group by email order by email_count desc').show(5,truncate = False)"
   ]
  },
  {
   "cell_type": "code",
   "execution_count": null,
   "id": "a4e101ac",
   "metadata": {},
   "outputs": [],
   "source": []
  }
 ],
 "metadata": {
  "kernelspec": {
   "display_name": "Python 3 (ipykernel)",
   "language": "python",
   "name": "python3"
  },
  "language_info": {
   "codemirror_mode": {
    "name": "ipython",
    "version": 3
   },
   "file_extension": ".py",
   "mimetype": "text/x-python",
   "name": "python",
   "nbconvert_exporter": "python",
   "pygments_lexer": "ipython3",
   "version": "3.7.13"
  }
 },
 "nbformat": 4,
 "nbformat_minor": 5
}
