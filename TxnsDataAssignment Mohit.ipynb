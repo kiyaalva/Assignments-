{
 "cells": [
  {
   "cell_type": "code",
   "execution_count": 1,
   "id": "832c3ef8",
   "metadata": {},
   "outputs": [
    {
     "data": {
      "text/plain": [
       "'C:\\\\apachespark\\\\spark-2.4.7-bin-hadoop2.7'"
      ]
     },
     "execution_count": 1,
     "metadata": {},
     "output_type": "execute_result"
    }
   ],
   "source": [
    "import findspark\n",
    "findspark.init()\n",
    "findspark.find()"
   ]
  },
  {
   "cell_type": "code",
   "execution_count": 2,
   "id": "499c23d1",
   "metadata": {},
   "outputs": [],
   "source": [
    "from pyspark.sql import SparkSession\n",
    "spark=SparkSession.builder.appName('Demo').getOrCreate()"
   ]
  },
  {
   "cell_type": "code",
   "execution_count": 3,
   "id": "5e40a983",
   "metadata": {},
   "outputs": [],
   "source": [
    "from pyspark.sql.types import *\n",
    "schemaTransData = StructType([\n",
    "    StructField(\"txnid\", IntegerType(), True),\n",
    "    StructField(\"txndate\", StringType(), True),\n",
    "    StructField(\"custid\", IntegerType(), True),\n",
    "    StructField(\"amount\", DoubleType(), True),\n",
    "    StructField(\"category\", StringType(), True),\n",
    "    StructField(\"subcategory\", StringType(), True),\n",
    "    StructField(\"city\", StringType(), True),\n",
    "    StructField(\"state\", StringType(), True),\n",
    "    StructField(\"txntype\", StringType(), True),\n",
    "                    ])"
   ]
  },
  {
   "cell_type": "code",
   "execution_count": 4,
   "id": "6f901684",
   "metadata": {},
   "outputs": [],
   "source": [
    "transDataDF = spark.read.schema(schemaTransData).csv('txnsSmall')"
   ]
  },
  {
   "cell_type": "code",
   "execution_count": 5,
   "id": "b49f29e6",
   "metadata": {},
   "outputs": [
    {
     "name": "stdout",
     "output_type": "stream",
     "text": [
      "+-----+----------+-------+------+------------------+--------------------+-----------+----------+-------+\n",
      "|txnid|   txndate| custid|amount|          category|         subcategory|       city|     state|txntype|\n",
      "+-----+----------+-------+------+------------------+--------------------+-----------+----------+-------+\n",
      "|    0|06-26-2011|4007024| 40.33|Exercise & Fitness|Cardio Machine Ac...|Clarksville| Tennessee| credit|\n",
      "|    1|05-26-2011|4006742|198.44|Exercise & Fitness|Weightlifting Gloves| Long Beach|California| credit|\n",
      "|    2|06-01-2011|4009775|  5.58|Exercise & Fitness|Weightlifting Mac...|    Anaheim|California| credit|\n",
      "|    3|06-05-2011|4002199|198.19|        Gymnastics|    Gymnastics Rings|  Milwaukee| Wisconsin| credit|\n",
      "|    4|12-17-2011|4002613| 98.81|       Team Sports|        Field Hockey|Nashville  | Tennessee| credit|\n",
      "+-----+----------+-------+------+------------------+--------------------+-----------+----------+-------+\n",
      "only showing top 5 rows\n",
      "\n"
     ]
    }
   ],
   "source": [
    "transDataDF.show(5)"
   ]
  },
  {
   "cell_type": "code",
   "execution_count": 6,
   "id": "d4273f55",
   "metadata": {},
   "outputs": [
    {
     "name": "stdout",
     "output_type": "stream",
     "text": [
      "root\n",
      " |-- txnid: integer (nullable = true)\n",
      " |-- txndate: string (nullable = true)\n",
      " |-- custid: integer (nullable = true)\n",
      " |-- amount: double (nullable = true)\n",
      " |-- category: string (nullable = true)\n",
      " |-- subcategory: string (nullable = true)\n",
      " |-- city: string (nullable = true)\n",
      " |-- state: string (nullable = true)\n",
      " |-- txntype: string (nullable = true)\n",
      "\n"
     ]
    }
   ],
   "source": [
    "transDataDF.printSchema()"
   ]
  },
  {
   "cell_type": "markdown",
   "id": "c03f08ca",
   "metadata": {},
   "source": [
    "# Goal: Find  the total revenue generated based on category"
   ]
  },
  {
   "cell_type": "markdown",
   "id": "d7411262",
   "metadata": {},
   "source": [
    "### Approach 1 - SQL - based Approach"
   ]
  },
  {
   "cell_type": "raw",
   "id": "40c25d41",
   "metadata": {},
   "source": [
    "Tasks\n",
    "\ta. Convert the file into PARQUET\n",
    "\tb. Perform the following queries using SQL Approach and Programatic Approach\n",
    "\t\t# . Find the total number of transaction done by cash\n",
    "\t\t# Find the Highest Selling Category\n",
    "\t\t# Find the lowest selling Category\n",
    "\t\t# ind the lowest selling subcategory in highest selling category"
   ]
  },
  {
   "cell_type": "code",
   "execution_count": 7,
   "id": "3768b249",
   "metadata": {},
   "outputs": [],
   "source": [
    "transDataDF.write.parquet(\"txnsPARQUET\")"
   ]
  },
  {
   "cell_type": "code",
   "execution_count": 8,
   "id": "cbed7e80",
   "metadata": {},
   "outputs": [],
   "source": [
    "transDataDF.registerTempTable(\"transactions\")"
   ]
  },
  {
   "cell_type": "code",
   "execution_count": 11,
   "id": "b55eb4e3",
   "metadata": {},
   "outputs": [
    {
     "name": "stdout",
     "output_type": "stream",
     "text": [
      "+---------+\n",
      "|cash_txns|\n",
      "+---------+\n",
      "|       64|\n",
      "+---------+\n",
      "\n"
     ]
    }
   ],
   "source": [
    "spark.sql(\"select count(txnid) as cash_txns from transactions where txntype = 'cash'\").show()"
   ]
  },
  {
   "cell_type": "code",
   "execution_count": 21,
   "id": "ba261f25",
   "metadata": {},
   "outputs": [
    {
     "name": "stdout",
     "output_type": "stream",
     "text": [
      "+------------------+------------------------+\n",
      "|          category|highest_selling_category|\n",
      "+------------------+------------------------+\n",
      "|Outdoor Recreation|                      57|\n",
      "+------------------+------------------------+\n",
      "only showing top 1 row\n",
      "\n"
     ]
    }
   ],
   "source": [
    "spark.sql(\"select category, count(txnid) as highest_selling_category from transactions group by category order by highest_selling_category desc\").show(1)"
   ]
  },
  {
   "cell_type": "code",
   "execution_count": 22,
   "id": "1f49d0f1",
   "metadata": {},
   "outputs": [
    {
     "name": "stdout",
     "output_type": "stream",
     "text": [
      "+--------+-----------------------+\n",
      "|category|lowest_selling_category|\n",
      "+--------+-----------------------+\n",
      "| Puzzles|                      7|\n",
      "+--------+-----------------------+\n",
      "only showing top 1 row\n",
      "\n"
     ]
    }
   ],
   "source": [
    "spark.sql(\"select category, count(amount) as lowest_selling_category from transactions group by category order by lowest_selling_category asc\").show(1)"
   ]
  },
  {
   "cell_type": "code",
   "execution_count": 26,
   "id": "c3542407",
   "metadata": {},
   "outputs": [
    {
     "name": "stdout",
     "output_type": "stream",
     "text": [
      "+-----------+-----------------+\n",
      "|subcategory|subcategory_total|\n",
      "+-----------+-----------------+\n",
      "|       Golf|                1|\n",
      "+-----------+-----------------+\n",
      "only showing top 1 row\n",
      "\n"
     ]
    }
   ],
   "source": [
    "spark.sql(\"select t.subcategory, count(t.txnid) as subcategory_total from transactions t where t.category = (select category from (select count(txnid) as category_total, category from transactions group by category order by category_total desc limit 1) a) group by t.subcategory order by subcategory_total asc\").show(1)"
   ]
  },
  {
   "cell_type": "markdown",
   "id": "7086b9e6",
   "metadata": {},
   "source": [
    "### Approach 2 - Using Programming Approach"
   ]
  },
  {
   "cell_type": "raw",
   "id": "6345c7b1",
   "metadata": {},
   "source": [
    "b. Perform the following queries using SQL Approach and Programatic Approach\n",
    "\t\t# . Find the total number of transaction done by cash\n",
    "\t\t# Find the Highest Selling Category\n",
    "\t\t# Find the lowest selling Category\n",
    "\t\t# ind the lowest selling subcategory in highest selling category"
   ]
  },
  {
   "cell_type": "code",
   "execution_count": 48,
   "id": "40bb92bf",
   "metadata": {},
   "outputs": [],
   "source": [
    "from pyspark.sql.functions import *"
   ]
  },
  {
   "cell_type": "code",
   "execution_count": 31,
   "id": "bf5c1585",
   "metadata": {},
   "outputs": [
    {
     "name": "stdout",
     "output_type": "stream",
     "text": [
      "+------------+\n",
      "|count(txnid)|\n",
      "+------------+\n",
      "|          64|\n",
      "+------------+\n",
      "\n"
     ]
    }
   ],
   "source": [
    "transDataDF.where(\"txntype = 'cash'\").agg({'txnid':'count'}).alias(\"cash_txns\").show()"
   ]
  },
  {
   "cell_type": "code",
   "execution_count": 32,
   "id": "798aea8e",
   "metadata": {},
   "outputs": [
    {
     "data": {
      "text/plain": [
       "64"
      ]
     },
     "execution_count": 32,
     "metadata": {},
     "output_type": "execute_result"
    }
   ],
   "source": [
    "transDataDF.where(\"txntype = 'cash'\").count()"
   ]
  },
  {
   "cell_type": "code",
   "execution_count": 50,
   "id": "e357d0a1",
   "metadata": {},
   "outputs": [
    {
     "name": "stdout",
     "output_type": "stream",
     "text": [
      "+------------------+----------+\n",
      "|          category|count_txns|\n",
      "+------------------+----------+\n",
      "|Outdoor Recreation|        57|\n",
      "+------------------+----------+\n",
      "only showing top 1 row\n",
      "\n"
     ]
    }
   ],
   "source": [
    "transDataDF.groupBy('category').agg({'txnid':'count'}).withColumnRenamed(\"count(txnid)\", \"count_txns\").sort(desc(\"count_txns\")).show(1)"
   ]
  },
  {
   "cell_type": "code",
   "execution_count": 51,
   "id": "de465ea5",
   "metadata": {},
   "outputs": [
    {
     "name": "stdout",
     "output_type": "stream",
     "text": [
      "+--------+----------+\n",
      "|category|count_txns|\n",
      "+--------+----------+\n",
      "| Puzzles|         7|\n",
      "+--------+----------+\n",
      "only showing top 1 row\n",
      "\n"
     ]
    }
   ],
   "source": [
    "transDataDF.groupBy('category').agg({'txnid':'count'}).withColumnRenamed(\"count(txnid)\", \"count_txns\").sort(asc(\"count_txns\")).show(1)"
   ]
  },
  {
   "cell_type": "code",
   "execution_count": 69,
   "id": "12a1012d",
   "metadata": {},
   "outputs": [
    {
     "name": "stdout",
     "output_type": "stream",
     "text": [
      "+-----------+----------+\n",
      "|subcategory|count_txns|\n",
      "+-----------+----------+\n",
      "|       Golf|         1|\n",
      "+-----------+----------+\n",
      "only showing top 1 row\n",
      "\n"
     ]
    }
   ],
   "source": [
    "transDataDF.filter(transDataDF.category==transDataDF.groupBy('category').agg({'txnid':'count'}).sort(desc(\"count(txnid)\")).collect()[0][0]).groupby('subcategory').agg({'txnid':'count'}).withColumnRenamed(\"count(txnid)\", \"count_txns\").sort(asc(\"count_txns\")).show(1)"
   ]
  },
  {
   "cell_type": "code",
   "execution_count": null,
   "id": "946de677",
   "metadata": {},
   "outputs": [],
   "source": [
    "#https://spark.apache.org/docs/2.4.7/api/python/pyspark.sql.html?highlight=dataframe#pyspark.sql.DataFrame"
   ]
  }
 ],
 "metadata": {
  "kernelspec": {
   "display_name": "Python 3 (ipykernel)",
   "language": "python",
   "name": "python3"
  },
  "language_info": {
   "codemirror_mode": {
    "name": "ipython",
    "version": 3
   },
   "file_extension": ".py",
   "mimetype": "text/x-python",
   "name": "python",
   "nbconvert_exporter": "python",
   "pygments_lexer": "ipython3",
   "version": "3.7.13"
  }
 },
 "nbformat": 4,
 "nbformat_minor": 5
}
