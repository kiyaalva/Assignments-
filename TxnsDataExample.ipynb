{
 "cells": [
  {
   "cell_type": "code",
   "execution_count": 1,
   "id": "832c3ef8",
   "metadata": {},
   "outputs": [
    {
     "data": {
      "text/plain": [
       "'C:\\\\apachespark\\\\spark-2.4.7-bin-hadoop2.7'"
      ]
     },
     "execution_count": 1,
     "metadata": {},
     "output_type": "execute_result"
    }
   ],
   "source": [
    "import findspark\n",
    "findspark.init()\n",
    "findspark.find()"
   ]
  },
  {
   "cell_type": "code",
   "execution_count": 2,
   "id": "499c23d1",
   "metadata": {},
   "outputs": [],
   "source": [
    "from pyspark.sql import SparkSession\n",
    "spark=SparkSession.builder.appName('Demo').getOrCreate()"
   ]
  },
  {
   "cell_type": "code",
   "execution_count": 3,
   "id": "5e40a983",
   "metadata": {},
   "outputs": [],
   "source": [
    "from pyspark.sql.types import *\n",
    "schemaTransData = StructType([\n",
    "    StructField(\"txnid\", IntegerType(), True),\n",
    "    StructField(\"txndate\", StringType(), True),\n",
    "    StructField(\"custid\", IntegerType(), True),\n",
    "    StructField(\"amount\", DoubleType(), True),\n",
    "    StructField(\"category\", StringType(), True),\n",
    "    StructField(\"subcategory\", StringType(), True),\n",
    "    StructField(\"city\", StringType(), True),\n",
    "    StructField(\"state\", StringType(), True),\n",
    "    StructField(\"txntype\", StringType(), True),\n",
    "                    ])"
   ]
  },
  {
   "cell_type": "code",
   "execution_count": 4,
   "id": "6f901684",
   "metadata": {},
   "outputs": [],
   "source": [
    "transDataDF = spark.read.schema(schemaTransData).csv('txnsSmall')"
   ]
  },
  {
   "cell_type": "code",
   "execution_count": 5,
   "id": "b49f29e6",
   "metadata": {},
   "outputs": [
    {
     "name": "stdout",
     "output_type": "stream",
     "text": [
      "+-----+----------+-------+------+------------------+--------------------+-----------+----------+-------+\n",
      "|txnid|   txndate| custid|amount|          category|         subcategory|       city|     state|txntype|\n",
      "+-----+----------+-------+------+------------------+--------------------+-----------+----------+-------+\n",
      "|    0|06-26-2011|4007024| 40.33|Exercise & Fitness|Cardio Machine Ac...|Clarksville| Tennessee| credit|\n",
      "|    1|05-26-2011|4006742|198.44|Exercise & Fitness|Weightlifting Gloves| Long Beach|California| credit|\n",
      "|    2|06-01-2011|4009775|  5.58|Exercise & Fitness|Weightlifting Mac...|    Anaheim|California| credit|\n",
      "|    3|06-05-2011|4002199|198.19|        Gymnastics|    Gymnastics Rings|  Milwaukee| Wisconsin| credit|\n",
      "|    4|12-17-2011|4002613| 98.81|       Team Sports|        Field Hockey|Nashville  | Tennessee| credit|\n",
      "+-----+----------+-------+------+------------------+--------------------+-----------+----------+-------+\n",
      "only showing top 5 rows\n",
      "\n"
     ]
    }
   ],
   "source": [
    "transDataDF.show(5)"
   ]
  },
  {
   "cell_type": "code",
   "execution_count": 6,
   "id": "d4273f55",
   "metadata": {},
   "outputs": [
    {
     "name": "stdout",
     "output_type": "stream",
     "text": [
      "root\n",
      " |-- txnid: integer (nullable = true)\n",
      " |-- txndate: string (nullable = true)\n",
      " |-- custid: integer (nullable = true)\n",
      " |-- amount: double (nullable = true)\n",
      " |-- category: string (nullable = true)\n",
      " |-- subcategory: string (nullable = true)\n",
      " |-- city: string (nullable = true)\n",
      " |-- state: string (nullable = true)\n",
      " |-- txntype: string (nullable = true)\n",
      "\n"
     ]
    }
   ],
   "source": [
    "transDataDF.printSchema()"
   ]
  },
  {
   "cell_type": "markdown",
   "id": "c03f08ca",
   "metadata": {},
   "source": [
    "# Goal: Find  the total revenue generated based on category"
   ]
  },
  {
   "cell_type": "markdown",
   "id": "d7411262",
   "metadata": {},
   "source": [
    "### Approach 1 - SQL - based Approach"
   ]
  },
  {
   "cell_type": "code",
   "execution_count": 7,
   "id": "cbed7e80",
   "metadata": {},
   "outputs": [],
   "source": [
    "\n",
    "\n",
    "transDataDF.registerTempTable(\"transactions\")\n"
   ]
  },
  {
   "cell_type": "code",
   "execution_count": 8,
   "id": "b55eb4e3",
   "metadata": {},
   "outputs": [
    {
     "name": "stdout",
     "output_type": "stream",
     "text": [
      "+--------------------+------------------+\n",
      "|            category|       sum(amount)|\n",
      "+--------------------+------------------+\n",
      "|          Gymnastics|           3373.12|\n",
      "|       Winter Sports|1314.2499999999998|\n",
      "|             Jumping|           2078.58|\n",
      "|         Team Sports| 5178.709999999999|\n",
      "|          Air Sports|           1086.23|\n",
      "|        Indoor Games|2498.8900000000012|\n",
      "|               Games|           2899.91|\n",
      "|Outdoor Play Equi...|           2419.12|\n",
      "|        Water Sports|           4379.96|\n",
      "|             Puzzles| 508.8599999999999|\n",
      "|  Outdoor Recreation| 6190.070000000001|\n",
      "|      Racquet Sports|           1221.73|\n",
      "|       Combat Sports|           1655.38|\n",
      "|             Dancing|            704.66|\n",
      "|  Exercise & Fitness| 5016.370000000002|\n",
      "+--------------------+------------------+\n",
      "\n"
     ]
    }
   ],
   "source": [
    "spark.sql(\"select category, sum(amount) from transactions group by category\").show()"
   ]
  },
  {
   "cell_type": "markdown",
   "id": "7086b9e6",
   "metadata": {},
   "source": [
    "### Approach 2 - Using Programming Approach"
   ]
  },
  {
   "cell_type": "code",
   "execution_count": 12,
   "id": "2c397b62",
   "metadata": {},
   "outputs": [
    {
     "name": "stdout",
     "output_type": "stream",
     "text": [
      "+-----+------+\n",
      "|txnid|amount|\n",
      "+-----+------+\n",
      "|    0| 40.33|\n",
      "|    1|198.44|\n",
      "|    2|  5.58|\n",
      "|    3|198.19|\n",
      "|    4| 98.81|\n",
      "+-----+------+\n",
      "only showing top 5 rows\n",
      "\n"
     ]
    }
   ],
   "source": [
    "transDataDF.select(\"txnid\",\"amount\").show(5)"
   ]
  },
  {
   "cell_type": "code",
   "execution_count": 15,
   "id": "5e112c74",
   "metadata": {},
   "outputs": [
    {
     "name": "stdout",
     "output_type": "stream",
     "text": [
      "+--------------------+------------------+\n",
      "|            category|       sum(amount)|\n",
      "+--------------------+------------------+\n",
      "|          Gymnastics|           3373.12|\n",
      "|       Winter Sports|1314.2499999999998|\n",
      "|             Jumping|           2078.58|\n",
      "|         Team Sports| 5178.709999999999|\n",
      "|          Air Sports|           1086.23|\n",
      "|        Indoor Games|2498.8900000000012|\n",
      "|               Games|           2899.91|\n",
      "|Outdoor Play Equi...|           2419.12|\n",
      "|        Water Sports|           4379.96|\n",
      "|             Puzzles| 508.8599999999999|\n",
      "|  Outdoor Recreation| 6190.070000000001|\n",
      "|      Racquet Sports|           1221.73|\n",
      "|       Combat Sports|           1655.38|\n",
      "|             Dancing|            704.66|\n",
      "|  Exercise & Fitness| 5016.370000000002|\n",
      "+--------------------+------------------+\n",
      "\n"
     ]
    }
   ],
   "source": [
    "transDataDF.groupBy('category').agg({'amount':'sum'}).show()"
   ]
  },
  {
   "cell_type": "code",
   "execution_count": null,
   "id": "946de677",
   "metadata": {},
   "outputs": [],
   "source": [
    "#https://spark.apache.org/docs/2.4.7/api/python/pyspark.sql.html?highlight=dataframe#pyspark.sql.DataFrame"
   ]
  }
 ],
 "metadata": {
  "kernelspec": {
   "display_name": "Python 3 (ipykernel)",
   "language": "python",
   "name": "python3"
  },
  "language_info": {
   "codemirror_mode": {
    "name": "ipython",
    "version": 3
   },
   "file_extension": ".py",
   "mimetype": "text/x-python",
   "name": "python",
   "nbconvert_exporter": "python",
   "pygments_lexer": "ipython3",
   "version": "3.7.13"
  }
 },
 "nbformat": 4,
 "nbformat_minor": 5
}
