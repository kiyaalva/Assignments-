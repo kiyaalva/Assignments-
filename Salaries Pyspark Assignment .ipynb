{
 "cells": [
  {
   "cell_type": "code",
   "execution_count": 1,
   "id": "8eb14b4d",
   "metadata": {},
   "outputs": [],
   "source": [
    "import findspark "
   ]
  },
  {
   "cell_type": "code",
   "execution_count": 2,
   "id": "0e6fe136",
   "metadata": {},
   "outputs": [
    {
     "data": {
      "text/plain": [
       "'C:\\\\apachespark\\\\spark-2.4.7-bin-hadoop2.7'"
      ]
     },
     "execution_count": 2,
     "metadata": {},
     "output_type": "execute_result"
    }
   ],
   "source": [
    "findspark.init()\n",
    "findspark.find()"
   ]
  },
  {
   "cell_type": "code",
   "execution_count": 3,
   "id": "b203df6b",
   "metadata": {},
   "outputs": [],
   "source": [
    "from pyspark.sql import SparkSession"
   ]
  },
  {
   "cell_type": "code",
   "execution_count": 4,
   "id": "65f446b2",
   "metadata": {},
   "outputs": [],
   "source": [
    "spark= SparkSession.builder.appName(\"testApp\").getOrCreate()"
   ]
  },
  {
   "cell_type": "code",
   "execution_count": 6,
   "id": "93137aae",
   "metadata": {},
   "outputs": [],
   "source": [
    "salariesdf = spark.read.option('header',True).option('inferSchema',True ).csv('Salaries.csv')"
   ]
  },
  {
   "cell_type": "code",
   "execution_count": 7,
   "id": "5382e5c0",
   "metadata": {},
   "outputs": [
    {
     "name": "stdout",
     "output_type": "stream",
     "text": [
      "+---+-----------------+--------------------+---------+-----------+---------+--------+---------+----------------+----+-----+-------------+------+\n",
      "| Id|     EmployeeName|            JobTitle|  BasePay|OvertimePay| OtherPay|Benefits| TotalPay|TotalPayBenefits|Year|Notes|       Agency|Status|\n",
      "+---+-----------------+--------------------+---------+-----------+---------+--------+---------+----------------+----+-----+-------------+------+\n",
      "|  1|   NATHANIEL FORD|GENERAL MANAGER-M...|167411.18|        0.0|400184.25|    null|567595.43|       567595.43|2011| null|San Francisco|  null|\n",
      "|  2|     GARY JIMENEZ|CAPTAIN III (POLI...|155966.02|  245131.88|137811.38|    null|538909.28|       538909.28|2011| null|San Francisco|  null|\n",
      "|  3|   ALBERT PARDINI|CAPTAIN III (POLI...|212739.13|  106088.18|  16452.6|    null|335279.91|       335279.91|2011| null|San Francisco|  null|\n",
      "|  4|CHRISTOPHER CHONG|WIRE ROPE CABLE M...|  77916.0|   56120.71| 198306.9|    null|332343.61|       332343.61|2011| null|San Francisco|  null|\n",
      "|  5|  PATRICK GARDNER|DEPUTY CHIEF OF D...| 134401.6|     9737.0|182234.59|    null|326373.19|       326373.19|2011| null|San Francisco|  null|\n",
      "+---+-----------------+--------------------+---------+-----------+---------+--------+---------+----------------+----+-----+-------------+------+\n",
      "only showing top 5 rows\n",
      "\n"
     ]
    }
   ],
   "source": [
    "salariesdf.show(5)"
   ]
  },
  {
   "cell_type": "code",
   "execution_count": 9,
   "id": "1d6c5db2",
   "metadata": {},
   "outputs": [
    {
     "name": "stdout",
     "output_type": "stream",
     "text": [
      "root\n",
      " |-- Id: integer (nullable = true)\n",
      " |-- EmployeeName: string (nullable = true)\n",
      " |-- JobTitle: string (nullable = true)\n",
      " |-- BasePay: double (nullable = true)\n",
      " |-- OvertimePay: double (nullable = true)\n",
      " |-- OtherPay: double (nullable = true)\n",
      " |-- Benefits: double (nullable = true)\n",
      " |-- TotalPay: double (nullable = true)\n",
      " |-- TotalPayBenefits: double (nullable = true)\n",
      " |-- Year: integer (nullable = true)\n",
      " |-- Notes: string (nullable = true)\n",
      " |-- Agency: string (nullable = true)\n",
      " |-- Status: double (nullable = true)\n",
      "\n"
     ]
    }
   ],
   "source": [
    "salariesdf.printSchema()"
   ]
  },
  {
   "cell_type": "code",
   "execution_count": 10,
   "id": "ad097077",
   "metadata": {},
   "outputs": [],
   "source": [
    "salariesdf.registerTempTable('Salaries')"
   ]
  },
  {
   "cell_type": "code",
   "execution_count": 11,
   "id": "c521e6ad",
   "metadata": {},
   "outputs": [
    {
     "name": "stdout",
     "output_type": "stream",
     "text": [
      "+--------+---------+-----------+\n",
      "|database|tableName|isTemporary|\n",
      "+--------+---------+-----------+\n",
      "|        | salaries|       true|\n",
      "+--------+---------+-----------+\n",
      "\n"
     ]
    }
   ],
   "source": [
    "spark.sql('show tables').show()"
   ]
  },
  {
   "cell_type": "code",
   "execution_count": 12,
   "id": "00fcce63",
   "metadata": {},
   "outputs": [
    {
     "name": "stdout",
     "output_type": "stream",
     "text": [
      "+-----------------+\n",
      "|     avg(BasePay)|\n",
      "+-----------------+\n",
      "|66325.44884048733|\n",
      "+-----------------+\n",
      "\n"
     ]
    }
   ],
   "source": [
    "spark.sql('select avg(BasePay) from Salaries').show()"
   ]
  },
  {
   "cell_type": "code",
   "execution_count": 13,
   "id": "5a99922a",
   "metadata": {},
   "outputs": [
    {
     "name": "stdout",
     "output_type": "stream",
     "text": [
      "+----------------+\n",
      "|max(OvertimePay)|\n",
      "+----------------+\n",
      "|       245131.88|\n",
      "+----------------+\n",
      "\n"
     ]
    }
   ],
   "source": [
    "spark.sql('select max(OvertimePay) from Salaries').show()"
   ]
  },
  {
   "cell_type": "code",
   "execution_count": 14,
   "id": "5fbc48cb",
   "metadata": {},
   "outputs": [
    {
     "name": "stdout",
     "output_type": "stream",
     "text": [
      "+---------------+--------------------+\n",
      "|   EmployeeName|            JobTitle|\n",
      "+---------------+--------------------+\n",
      "|JOSEPH DRISCOLL|CAPTAIN, FIRE SUP...|\n",
      "+---------------+--------------------+\n",
      "\n"
     ]
    }
   ],
   "source": [
    "spark.sql('select EmployeeName,JobTitle from Salaries where EmployeeName = \"JOSEPH DRISCOLL\"').show()\n"
   ]
  },
  {
   "cell_type": "code",
   "execution_count": 15,
   "id": "9344f7a4",
   "metadata": {},
   "outputs": [
    {
     "name": "stdout",
     "output_type": "stream",
     "text": [
      "+---------------+--------------------+----------------+\n",
      "|   EmployeeName|            JobTitle|TotalPayBenefits|\n",
      "+---------------+--------------------+----------------+\n",
      "|JOSEPH DRISCOLL|CAPTAIN, FIRE SUP...|       270324.91|\n",
      "+---------------+--------------------+----------------+\n",
      "\n"
     ]
    }
   ],
   "source": [
    "spark.sql('select EmployeeName,JobTitle,TotalPayBenefits from Salaries where EmployeeName = \"JOSEPH DRISCOLL\" ').show()\n"
   ]
  },
  {
   "cell_type": "code",
   "execution_count": 18,
   "id": "5ea157f3",
   "metadata": {},
   "outputs": [
    {
     "name": "stdout",
     "output_type": "stream",
     "text": [
      "+--------------+--------------------+----------------+\n",
      "|  EmployeeName|            JobTitle|TotalPayBenefits|\n",
      "+--------------+--------------------+----------------+\n",
      "|NATHANIEL FORD|GENERAL MANAGER-M...|       567595.43|\n",
      "+--------------+--------------------+----------------+\n",
      "\n"
     ]
    }
   ],
   "source": [
    "spark.sql('select EmployeeName,JobTitle,TotalPayBenefits from Salaries order by TotalPayBenefits DESC LIMIT 1 ').show()"
   ]
  },
  {
   "cell_type": "code",
   "execution_count": 19,
   "id": "ac3c9ee4",
   "metadata": {},
   "outputs": [
    {
     "name": "stdout",
     "output_type": "stream",
     "text": [
      "+------------+--------------------+----------------+\n",
      "|EmployeeName|            JobTitle|TotalPayBenefits|\n",
      "+------------+--------------------+----------------+\n",
      "|   Joe Lopez|Counselor, Log Ca...|         -618.13|\n",
      "+------------+--------------------+----------------+\n",
      "\n"
     ]
    }
   ],
   "source": [
    "spark.sql('select EmployeeName,JobTitle,TotalPayBenefits from Salaries order by TotalPayBenefits asc LIMIT 1 ').show()"
   ]
  },
  {
   "cell_type": "code",
   "execution_count": 21,
   "id": "a503069f",
   "metadata": {},
   "outputs": [
    {
     "name": "stdout",
     "output_type": "stream",
     "text": [
      "+------------------+----+\n",
      "|      avg(BasePay)|Year|\n",
      "+------------------+----+\n",
      "|  69630.0302164778|2013|\n",
      "| 66564.42192449694|2014|\n",
      "| 65436.40685742066|2012|\n",
      "|63595.956516774524|2011|\n",
      "+------------------+----+\n",
      "\n"
     ]
    }
   ],
   "source": [
    "spark.sql('select avg(BasePay),Year from Salaries where Year in (2011,2012,2013,2014) group by Year').show()"
   ]
  },
  {
   "cell_type": "code",
   "execution_count": 22,
   "id": "30f4d88a",
   "metadata": {},
   "outputs": [
    {
     "name": "stdout",
     "output_type": "stream",
     "text": [
      "+------------------------+\n",
      "|count(DISTINCT JobTitle)|\n",
      "+------------------------+\n",
      "|                    2159|\n",
      "+------------------------+\n",
      "\n"
     ]
    }
   ],
   "source": [
    "spark.sql('select count(distinct(JobTitle)) from Salaries').show()"
   ]
  },
  {
   "cell_type": "code",
   "execution_count": 24,
   "id": "173bd6d1",
   "metadata": {},
   "outputs": [
    {
     "name": "stdout",
     "output_type": "stream",
     "text": [
      "+---------------+--------------------+\n",
      "|count(JobTitle)|            JobTitle|\n",
      "+---------------+--------------------+\n",
      "|           7036|    Transit Operator|\n",
      "|           4389|       Special Nurse|\n",
      "|           3736|    Registered Nurse|\n",
      "|           2518|Public Svc Aide-P...|\n",
      "|           2421|    Police Officer 3|\n",
      "+---------------+--------------------+\n",
      "\n"
     ]
    }
   ],
   "source": [
    "spark.sql('select count(JobTitle) ,JobTitle from Salaries group by Jobtitle order by count(Jobtitle) desc limit 5').show()"
   ]
  },
  {
   "cell_type": "code",
   "execution_count": 25,
   "id": "3e5634cc",
   "metadata": {},
   "outputs": [
    {
     "name": "stdout",
     "output_type": "stream",
     "text": [
      "+------------------------+------------+\n",
      "|count(DISTINCT JobTitle)|EmployeeName|\n",
      "+------------------------+------------+\n",
      "|                       5|  Kevin  Lee|\n",
      "+------------------------+------------+\n",
      "\n"
     ]
    }
   ],
   "source": [
    "spark.sql('select count(distinct(JobTitle)) ,EmployeeName from Salaries where Year = 2013 group by EmployeeName order by count(Jobtitle) desc limit 1').show()"
   ]
  },
  {
   "cell_type": "code",
   "execution_count": 34,
   "id": "6b45d392",
   "metadata": {},
   "outputs": [
    {
     "name": "stdout",
     "output_type": "stream",
     "text": [
      "+---------------+\n",
      "|count(JobTitle)|\n",
      "+---------------+\n",
      "|            423|\n",
      "+---------------+\n",
      "\n"
     ]
    }
   ],
   "source": [
    "spark.sql('select count(JobTitle) from Salaries where JobTitle like \"%Chief%\"').show()"
   ]
  },
  {
   "cell_type": "code",
   "execution_count": null,
   "id": "3c576680",
   "metadata": {},
   "outputs": [],
   "source": []
  }
 ],
 "metadata": {
  "kernelspec": {
   "display_name": "Python 3 (ipykernel)",
   "language": "python",
   "name": "python3"
  },
  "language_info": {
   "codemirror_mode": {
    "name": "ipython",
    "version": 3
   },
   "file_extension": ".py",
   "mimetype": "text/x-python",
   "name": "python",
   "nbconvert_exporter": "python",
   "pygments_lexer": "ipython3",
   "version": "3.7.13"
  }
 },
 "nbformat": 4,
 "nbformat_minor": 5
}
