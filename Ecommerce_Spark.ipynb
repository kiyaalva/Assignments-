{
 "cells": [
  {
   "cell_type": "code",
   "execution_count": 55,
   "id": "15805abc",
   "metadata": {},
   "outputs": [],
   "source": [
    "import findspark \n",
    "findspark.init()\n",
    "from pyspark.sql import SparkSession \n",
    "from pyspark.sql.types import * \n",
    "from pyspark.sql.functions import *\n",
    "import pandas as pd "
   ]
  },
  {
   "cell_type": "code",
   "execution_count": 103,
   "id": "c785c9da",
   "metadata": {
    "scrolled": true
   },
   "outputs": [
    {
     "data": {
      "text/plain": [
       "50.347302"
      ]
     },
     "execution_count": 103,
     "metadata": {},
     "output_type": "execute_result"
    }
   ],
   "source": [
    "df = pd.read_csv(\"Ecommerce Purchases\")"
   ]
  },
  {
   "cell_type": "code",
   "execution_count": 110,
   "id": "3a6b86e3",
   "metadata": {},
   "outputs": [],
   "source": [
    "spark = SparkSession.builder.master(\"local\").appName(\"Spark\").getOrCreate()"
   ]
  },
  {
   "cell_type": "code",
   "execution_count": 112,
   "id": "c4afaed2",
   "metadata": {},
   "outputs": [
    {
     "name": "stdout",
     "output_type": "stream",
     "text": [
      "+--------------------+-----+--------+--------------------+---------------+----------------+-----------+----------------+------------+-----------------+--------------------+---------------+--------+--------------+\n",
      "|             Address|  Lot|AM or PM|        Browser Info|        Company|     Credit Card|CC Exp Date|CC Security Code| CC Provider|            Email|                 Job|     IP Address|Language|Purchase Price|\n",
      "+--------------------+-----+--------+--------------------+---------------+----------------+-----------+----------------+------------+-----------------+--------------------+---------------+--------+--------------+\n",
      "|16629 Pace Camp A...|46 in|      PM|Opera/9.56.(X11; ...|Martinez-Herman|6011929061123406|      02/20|             900|JCB 16 digit|pdunlap@yahoo.com|Scientist, produc...|149.146.147.205|      el|         98.14|\n",
      "+--------------------+-----+--------+--------------------+---------------+----------------+-----------+----------------+------------+-----------------+--------------------+---------------+--------+--------------+\n",
      "only showing top 1 row\n",
      "\n"
     ]
    }
   ],
   "source": [
    "data = spark.createDataFrame(df)\n",
    "data.show(1)"
   ]
  },
  {
   "cell_type": "code",
   "execution_count": 113,
   "id": "7aab5819",
   "metadata": {},
   "outputs": [],
   "source": [
    "data.createOrReplaceTempView('data')"
   ]
  },
  {
   "cell_type": "code",
   "execution_count": null,
   "id": "c476ce77",
   "metadata": {},
   "outputs": [],
   "source": [
    "# ** What is the average Purchase Price? **"
   ]
  },
  {
   "cell_type": "code",
   "execution_count": 124,
   "id": "d3d3d863",
   "metadata": {},
   "outputs": [
    {
     "name": "stdout",
     "output_type": "stream",
     "text": [
      "+-------------------+\n",
      "|avg(Purchase Price)|\n",
      "+-------------------+\n",
      "|  50.34730200000025|\n",
      "+-------------------+\n",
      "\n"
     ]
    }
   ],
   "source": [
    "spark.sql('select mean(`Purchase Price`) from data').show()"
   ]
  },
  {
   "cell_type": "code",
   "execution_count": null,
   "id": "9e94901f",
   "metadata": {},
   "outputs": [],
   "source": [
    "#** What were the highest and lowest purchase prices? **"
   ]
  },
  {
   "cell_type": "code",
   "execution_count": 125,
   "id": "2dc54882",
   "metadata": {},
   "outputs": [
    {
     "name": "stdout",
     "output_type": "stream",
     "text": [
      "+-------------------+\n",
      "|max(Purchase Price)|\n",
      "+-------------------+\n",
      "|              99.99|\n",
      "+-------------------+\n",
      "\n"
     ]
    }
   ],
   "source": [
    "spark.sql('select max(`Purchase Price`) from data').show()"
   ]
  },
  {
   "cell_type": "code",
   "execution_count": 126,
   "id": "37b05e78",
   "metadata": {},
   "outputs": [
    {
     "name": "stdout",
     "output_type": "stream",
     "text": [
      "+-------------------+\n",
      "|min(Purchase Price)|\n",
      "+-------------------+\n",
      "|                0.0|\n",
      "+-------------------+\n",
      "\n"
     ]
    }
   ],
   "source": [
    "spark.sql('select min(`Purchase Price`) from data').show()"
   ]
  },
  {
   "cell_type": "code",
   "execution_count": null,
   "id": "6b78ae2c",
   "metadata": {},
   "outputs": [],
   "source": [
    "#** How many people have English 'en' as their Language of choice on the website? **"
   ]
  },
  {
   "cell_type": "code",
   "execution_count": 128,
   "id": "d6ed27a5",
   "metadata": {},
   "outputs": [
    {
     "name": "stdout",
     "output_type": "stream",
     "text": [
      "+--------+\n",
      "|en_count|\n",
      "+--------+\n",
      "|    1098|\n",
      "+--------+\n",
      "\n"
     ]
    }
   ],
   "source": [
    "spark.sql('select count(*) as en_count from data where Language = \"en\"').show()"
   ]
  },
  {
   "cell_type": "code",
   "execution_count": null,
   "id": "92475273",
   "metadata": {},
   "outputs": [],
   "source": [
    "#** How many people have the job title of \"Lawyer\" ? **"
   ]
  },
  {
   "cell_type": "code",
   "execution_count": 133,
   "id": "b97246b5",
   "metadata": {},
   "outputs": [
    {
     "name": "stdout",
     "output_type": "stream",
     "text": [
      "+------------+\n",
      "|lawyer_count|\n",
      "+------------+\n",
      "|          30|\n",
      "+------------+\n",
      "\n"
     ]
    }
   ],
   "source": [
    "spark.sql('select count(*) as lawyer_count from data where lower(Job) = \"lawyer\"').show()"
   ]
  },
  {
   "cell_type": "code",
   "execution_count": null,
   "id": "9f8e98e9",
   "metadata": {},
   "outputs": [],
   "source": [
    "#** How many people made the purchase during the AM and how many people made the purchase during PM ? **"
   ]
  },
  {
   "cell_type": "code",
   "execution_count": 140,
   "id": "632d30f8",
   "metadata": {
    "scrolled": true
   },
   "outputs": [
    {
     "name": "stdout",
     "output_type": "stream",
     "text": [
      "+--------+------+\n",
      "|AM or PM|counts|\n",
      "+--------+------+\n",
      "|      PM|  5068|\n",
      "|      AM|  4932|\n",
      "+--------+------+\n",
      "\n"
     ]
    }
   ],
   "source": [
    "spark.sql('select `AM or PM` , count(`AM or PM`) as counts from data group by `AM or PM`').show()"
   ]
  },
  {
   "cell_type": "code",
   "execution_count": null,
   "id": "ce443611",
   "metadata": {},
   "outputs": [],
   "source": [
    "#** What are the 5 most common Job Titles? **"
   ]
  },
  {
   "cell_type": "code",
   "execution_count": 139,
   "id": "c7775834",
   "metadata": {},
   "outputs": [
    {
     "name": "stdout",
     "output_type": "stream",
     "text": [
      "+--------------------+---------+\n",
      "|                 job|job_count|\n",
      "+--------------------+---------+\n",
      "|Interior and spat...|       31|\n",
      "|              Lawyer|       30|\n",
      "|   Social researcher|       28|\n",
      "|  Purchasing manager|       27|\n",
      "| Designer, jewellery|       27|\n",
      "+--------------------+---------+\n",
      "only showing top 5 rows\n",
      "\n"
     ]
    }
   ],
   "source": [
    "spark.sql('select job , count(job) as job_count from data group by job order by job_count desc ').show(5)"
   ]
  },
  {
   "cell_type": "code",
   "execution_count": null,
   "id": "de01748f",
   "metadata": {},
   "outputs": [],
   "source": [
    "#** Someone made a purchase that came from Lot: \"90 WT\" , what was the Purchase Price for this transaction? **"
   ]
  },
  {
   "cell_type": "code",
   "execution_count": 142,
   "id": "3c9c6cff",
   "metadata": {},
   "outputs": [
    {
     "name": "stdout",
     "output_type": "stream",
     "text": [
      "+--------------+\n",
      "|Purchase Price|\n",
      "+--------------+\n",
      "|          75.1|\n",
      "+--------------+\n",
      "\n"
     ]
    }
   ],
   "source": [
    "spark.sql('select `Purchase Price` from data where lot = \"90 WT\" ').show()"
   ]
  },
  {
   "cell_type": "code",
   "execution_count": null,
   "id": "6115945a",
   "metadata": {},
   "outputs": [],
   "source": [
    "#** What is the email of the person with the following Credit Card Number: 4926535242672853 **"
   ]
  },
  {
   "cell_type": "code",
   "execution_count": 145,
   "id": "be34c2af",
   "metadata": {},
   "outputs": [
    {
     "name": "stdout",
     "output_type": "stream",
     "text": [
      "+----------------------------+\n",
      "|email                       |\n",
      "+----------------------------+\n",
      "|bondellen@williams-garza.com|\n",
      "+----------------------------+\n",
      "\n"
     ]
    }
   ],
   "source": [
    "spark.sql('select email from data where `Credit Card` = 4926535242672853').show(truncate=False)"
   ]
  },
  {
   "cell_type": "code",
   "execution_count": null,
   "id": "f5614311",
   "metadata": {},
   "outputs": [],
   "source": [
    "#* How many people have American Express as their Credit Card Provider *and made a purchase above $95 ?**"
   ]
  },
  {
   "cell_type": "code",
   "execution_count": 147,
   "id": "bb070d5b",
   "metadata": {},
   "outputs": [
    {
     "name": "stdout",
     "output_type": "stream",
     "text": [
      "+-----------+\n",
      "|total_count|\n",
      "+-----------+\n",
      "|         39|\n",
      "+-----------+\n",
      "\n"
     ]
    }
   ],
   "source": [
    "spark.sql('select count(*) as total_count from data where `CC Provider`=\"American Express\" and `Purchase Price`>95 ').show()"
   ]
  },
  {
   "cell_type": "code",
   "execution_count": null,
   "id": "d5885038",
   "metadata": {},
   "outputs": [],
   "source": [
    "#** Hard: How many people have a credit card that expires in 2025? **"
   ]
  },
  {
   "cell_type": "code",
   "execution_count": 161,
   "id": "9db42026",
   "metadata": {},
   "outputs": [
    {
     "name": "stdout",
     "output_type": "stream",
     "text": [
      "+------------+\n",
      "|expiry_count|\n",
      "+------------+\n",
      "|1033        |\n",
      "+------------+\n",
      "\n"
     ]
    }
   ],
   "source": [
    "spark.sql('select count(*) as expiry_count from data where SPLIT(`CC Exp Date`,\"/\")[1]=25').show(truncate = False)"
   ]
  },
  {
   "cell_type": "code",
   "execution_count": null,
   "id": "d586fc6c",
   "metadata": {},
   "outputs": [],
   "source": [
    "#** Hard: What are the top 5 most popular email providers/hosts (e.g. gmail.com, yahoo.com, etc...) **"
   ]
  },
  {
   "cell_type": "code",
   "execution_count": 166,
   "id": "9ac34774",
   "metadata": {},
   "outputs": [
    {
     "name": "stdout",
     "output_type": "stream",
     "text": [
      "+------------+-----------+\n",
      "|email       |email_count|\n",
      "+------------+-----------+\n",
      "|hotmail.com |1638       |\n",
      "|yahoo.com   |1616       |\n",
      "|gmail.com   |1605       |\n",
      "|smith.com   |42         |\n",
      "|williams.com|37         |\n",
      "+------------+-----------+\n",
      "only showing top 5 rows\n",
      "\n"
     ]
    }
   ],
   "source": [
    "spark.sql('select email , count(*) as email_count from (select SPLIT(`Email`,\"@\")[1] as email from data)a group by email order by email_count desc').show(5,truncate = False)"
   ]
  }
 ],
 "metadata": {
  "kernelspec": {
   "display_name": "Python 3",
   "language": "python",
   "name": "python3"
  },
  "language_info": {
   "codemirror_mode": {
    "name": "ipython",
    "version": 3
   },
   "file_extension": ".py",
   "mimetype": "text/x-python",
   "name": "python",
   "nbconvert_exporter": "python",
   "pygments_lexer": "ipython3",
   "version": "3.6.9"
  }
 },
 "nbformat": 4,
 "nbformat_minor": 5
}
